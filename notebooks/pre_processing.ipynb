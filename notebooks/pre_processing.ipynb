{
 "cells": [
  {
   "cell_type": "code",
   "execution_count": 8,
   "metadata": {},
   "outputs": [],
   "source": [
    "from pyspark.sql import SparkSession\n",
    "import pyspark.sql.functions as f"
   ]
  },
  {
   "cell_type": "code",
   "execution_count": 9,
   "metadata": {},
   "outputs": [],
   "source": [
    "spark = SparkSession.builder \\\n",
    "    .master(\"local[*]\")\\\n",
    "    .config(\"spark.driver.memory\", \"4g\") \\\n",
    "    .config(\"spark.executor.memory\", \"1g\") \\\n",
    "    .getOrCreate()"
   ]
  },
  {
   "cell_type": "code",
   "execution_count": 11,
   "metadata": {},
   "outputs": [
    {
     "name": "stdout",
     "output_type": "stream",
     "text": [
      "Saved 625134 rows of predict inputs\n"
     ]
    }
   ],
   "source": [
    "from pipeline_oriented_analytics.pipe import Pipe\n",
    "from pipeline_oriented_analytics.transformer import *\n",
    "from typing import List, Dict\n",
    "from pipeline_oriented_analytics.dataframe import CsvDataFrame, ParquetDataFrame\n",
    "from pipeline_oriented_analytics import Phase\n",
    "\n",
    "#phase = Phase.train\n",
    "phase = Phase.predict\n",
    "\n",
    "variables = ['id', 'pickup_datetime', 'pickup_longitude', 'pickup_latitude', 'dropoff_longitude', 'dropoff_latitude']\n",
    "lables = ['trip_duration']\n",
    "column_names = {'pickup_longitude': 'pickup_lon', 'pickup_latitude': 'pickup_lat', 'dropoff_longitude': 'dropoff_lon', 'dropoff_latitude': 'dropoff_lat', 'trip_duration': 'duration_sec'}\n",
    "variable_types = {'id': 'string', 'pickup_datetime': 'timestamp', 'pickup_lon': 'double', 'pickup_lat': 'double', 'dropoff_lon': 'double', 'dropoff_lat': 'double'}\n",
    "label_types = {'duration': 'int'}\n",
    "\n",
    "if phase.is_predict():\n",
    "    columns = variables\n",
    "    column_types = variable_types\n",
    "    data_path = '../data/raw/test.csv'\n",
    "else: \n",
    "    columns = variables + lables\n",
    "    column_types = {**variable_types, **label_types}\n",
    "    data_path = '../data/raw/train.csv'\n",
    "\n",
    "df = Pipe([\n",
    "    SelectColumns(columns),\n",
    "    RenameColumns(column_names),\n",
    "    NormalizeColumnTypes(column_types),\n",
    "    CellToken(6, 'pickup_lat', 'pickup_lon', 'pickup_cell_6'),\n",
    "    CellToken(6, 'dropoff_lat', 'dropoff_lon', 'dropoff_cell_6'),\n",
    "    CellToken(14, 'pickup_lat', 'pickup_lon', 'pickup_cell_14'),\n",
    "    CellToken(14, 'dropoff_lat', 'dropoff_lon', 'dropoff_cell_14'),\n",
    "    Join(['pickup_cell_14', 'dropoff_cell_14'], Join.Method.left, ParquetDataFrame('../data/processed/distance_matrix', spark)),\n",
    "    DropColumns(inputCols=['pickup_lat', 'pickup_lon', 'dropoff_lon', 'dropoff_lat', 'pickup_cell_14', 'dropoff_cell_14']),\n",
    "    SaveToParquet(f'../data/processed/{phase.name}/inputs'),\n",
    "]).transform(CsvDataFrame(data_path, spark))\n",
    "\n",
    "print(f'Saved {df.count()} rows of {phase.name} inputs')"
   ]
  },
  {
   "cell_type": "code",
   "execution_count": 12,
   "metadata": {},
   "outputs": [
    {
     "name": "stdout",
     "output_type": "stream",
     "text": [
      "+-------------+------+\n",
      "|pickup_cell_6| count|\n",
      "+-------------+------+\n",
      "|         89c3|625112|\n",
      "|         89e9|     7|\n",
      "|         89b7|     6|\n",
      "|         8835|     1|\n",
      "|         89d1|     1|\n",
      "|         89fb|     1|\n",
      "|         898d|     1|\n",
      "|         808f|     1|\n",
      "|         89bf|     1|\n",
      "|         89e3|     1|\n",
      "|         89c1|     1|\n",
      "|         89dd|     1|\n",
      "+-------------+------+\n",
      "\n"
     ]
    }
   ],
   "source": [
    "df.select('pickup_cell_6').groupby('pickup_cell_6').count().sort(f.desc('count')).show(100)"
   ]
  },
  {
   "cell_type": "code",
   "execution_count": null,
   "metadata": {},
   "outputs": [],
   "source": []
  }
 ],
 "metadata": {
  "kernelspec": {
   "display_name": "Python [conda env:pipeline-oriented-analytics]",
   "language": "python",
   "name": "conda-env-pipeline-oriented-analytics-py"
  },
  "language_info": {
   "codemirror_mode": {
    "name": "ipython",
    "version": 3
   },
   "file_extension": ".py",
   "mimetype": "text/x-python",
   "name": "python",
   "nbconvert_exporter": "python",
   "pygments_lexer": "ipython3",
   "version": "3.6.10"
  }
 },
 "nbformat": 4,
 "nbformat_minor": 2
}
