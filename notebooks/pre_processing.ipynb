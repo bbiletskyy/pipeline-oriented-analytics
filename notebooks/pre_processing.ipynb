{
 "cells": [
  {
   "cell_type": "code",
   "execution_count": 25,
   "metadata": {},
   "outputs": [],
   "source": [
    "from pyspark.sql import SparkSession\n",
    "import pyspark.sql.functions as f"
   ]
  },
  {
   "cell_type": "code",
   "execution_count": 26,
   "metadata": {},
   "outputs": [],
   "source": [
    "spark = SparkSession.builder \\\n",
    "    .master(\"local[*]\")\\\n",
    "    .config(\"spark.driver.memory\", \"4g\") \\\n",
    "    .config(\"spark.executor.memory\", \"1g\") \\\n",
    "    .getOrCreate()"
   ]
  },
  {
   "cell_type": "code",
   "execution_count": 27,
   "metadata": {},
   "outputs": [
    {
     "name": "stdout",
     "output_type": "stream",
     "text": [
      "Saved 625134 rows\n"
     ]
    }
   ],
   "source": [
    "from pipeline_oriented_analytics.pipe import Pipe, IF\n",
    "from pipeline_oriented_analytics.transformer import *\n",
    "from typing import List, Dict\n",
    "from pipeline_oriented_analytics.dataframe import CsvDataFrame, ParquetDataFrame\n",
    "from pipeline_oriented_analytics import Phase\n",
    "\n",
    "#phase = Phase.train\n",
    "phase = Phase.predict\n",
    "\n",
    "variables = ('pickup_datetime', 'pickup_longitude', 'pickup_latitude', 'dropoff_longitude', 'dropoff_latitude')\n",
    "lables = ('trip_duration', )\n",
    "column_names = {'pickup_longitude': 'pickup_lon', 'pickup_latitude': 'pickup_lat', 'dropoff_longitude': 'dropoff_lon', 'dropoff_latitude': 'dropoff_lat', 'trip_duration': 'duration_sec'}\n",
    "variable_types = {'pickup_datetime': 'timestamp', 'pickup_lon': 'double', 'pickup_lat': 'double', 'dropoff_lon': 'double', 'dropoff_lat': 'double'}\n",
    "label_types = {'duration': 'int'}\n",
    "\n",
    "if phase.is_predict():\n",
    "    columns = list(variables)\n",
    "    column_types = variable_types\n",
    "    data_path = '../data/raw/test.csv'\n",
    "else: \n",
    "    columns = list(variables + lables)\n",
    "    column_types = {**variable_types, **label_types}\n",
    "    data_path = '../data/raw/train.csv'\n",
    "\n",
    "df = Pipe([\n",
    "    #Sample(0.0001),\n",
    "    SelectColumns(columns),\n",
    "    RenameColumns(column_names),\n",
    "    NormalizeColumnTypes(column_types),\n",
    "    CellId(6, 'pickup_lat', 'pickup_lon', 'pickup_cell_6'),\n",
    "    CellId(6, 'dropoff_lat', 'dropoff_lon', 'dropoff_cell_6'),\n",
    "    CellId(14, 'pickup_lat', 'pickup_lon', 'pickup_cell_14'),\n",
    "    CellId(14, 'dropoff_lat', 'dropoff_lon', 'dropoff_cell_14'),\n",
    "    Join(['pickup_cell_14', 'dropoff_cell_14'], Join.Method.left, ParquetDataFrame('../data/processed/distance_matrix', spark)),\n",
    "    DropColumns(['pickup_lat', 'pickup_lon', 'dropoff_lon', 'dropoff_lat', 'pickup_cell_14', 'dropoff_cell_14']),\n",
    "    SaveToParquet(f'../data/processed/{phase.name}/inputs'),\n",
    "]).transform(CsvDataFrame(data_path, spark))\n",
    "\n",
    "print(f'Saved {df.count()} rows of {phase.name} inputs')"
   ]
  },
  {
   "cell_type": "code",
   "execution_count": null,
   "metadata": {},
   "outputs": [],
   "source": []
  }
 ],
 "metadata": {
  "kernelspec": {
   "display_name": "Python [conda env:pipeline-oriented-analytics]",
   "language": "python",
   "name": "conda-env-pipeline-oriented-analytics-py"
  },
  "language_info": {
   "codemirror_mode": {
    "name": "ipython",
    "version": 3
   },
   "file_extension": ".py",
   "mimetype": "text/x-python",
   "name": "python",
   "nbconvert_exporter": "python",
   "pygments_lexer": "ipython3",
   "version": "3.6.10"
  }
 },
 "nbformat": 4,
 "nbformat_minor": 2
}
