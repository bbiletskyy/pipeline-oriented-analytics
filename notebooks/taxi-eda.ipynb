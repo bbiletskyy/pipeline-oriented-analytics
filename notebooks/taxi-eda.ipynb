{
 "cells": [
  {
   "cell_type": "code",
   "execution_count": 1,
   "metadata": {},
   "outputs": [],
   "source": [
    "#!pip install matplotlib\n",
    "import pandas as pd\n",
    "import matplotlib.pyplot as plt"
   ]
  },
  {
   "cell_type": "code",
   "execution_count": 2,
   "metadata": {},
   "outputs": [],
   "source": [
    "from pyspark.sql import SparkSession\n",
    "import pyspark.sql.functions as f"
   ]
  },
  {
   "cell_type": "code",
   "execution_count": 3,
   "metadata": {},
   "outputs": [],
   "source": [
    "spark = SparkSession.builder.master(\"local[*]\").getOrCreate()"
   ]
  },
  {
   "cell_type": "markdown",
   "metadata": {},
   "source": [
    "### Load Data"
   ]
  },
  {
   "cell_type": "code",
   "execution_count": 4,
   "metadata": {},
   "outputs": [
    {
     "name": "stdout",
     "output_type": "stream",
     "text": [
      "root\n",
      " |-- id: string (nullable = true)\n",
      " |-- vendor_id: integer (nullable = true)\n",
      " |-- pickup_datetime: timestamp (nullable = true)\n",
      " |-- dropoff_datetime: timestamp (nullable = true)\n",
      " |-- passenger_count: integer (nullable = true)\n",
      " |-- pickup_lon: double (nullable = true)\n",
      " |-- pickup_lat: double (nullable = true)\n",
      " |-- dropoff_lon: double (nullable = true)\n",
      " |-- dropoff_lat: double (nullable = true)\n",
      " |-- trip_duration: integer (nullable = true)\n",
      "\n",
      "+---------+---------+-------------------+-------------------+---------------+------------------+------------------+------------------+------------------+-------------+\n",
      "|       id|vendor_id|    pickup_datetime|   dropoff_datetime|passenger_count|        pickup_lon|        pickup_lat|       dropoff_lon|       dropoff_lat|trip_duration|\n",
      "+---------+---------+-------------------+-------------------+---------------+------------------+------------------+------------------+------------------+-------------+\n",
      "|id2875421|        2|2015-12-27 17:24:55|2015-12-27 17:32:30|              1| -73.9821548461914| 40.76793670654297|-73.96463012695312|40.765602111816406|          455|\n",
      "|id2377394|        1|2015-12-27 00:43:35|2015-12-27 00:54:38|              1|-73.98041534423828|40.738563537597656|-73.99948120117188| 40.73115158081055|          663|\n",
      "+---------+---------+-------------------+-------------------+---------------+------------------+------------------+------------------+------------------+-------------+\n",
      "only showing top 2 rows\n",
      "\n"
     ]
    }
   ],
   "source": [
    "raw_train_df = spark.read.option('header', 'true').csv('../data/raw/train.csv')\\\n",
    "    .select('id', 'vendor_id', 'pickup_datetime', 'dropoff_datetime', 'passenger_count', 'pickup_longitude', 'pickup_latitude', 'dropoff_longitude', 'dropoff_latitude', 'trip_duration')\\\n",
    "    .withColumn('vendor_id', f.col('vendor_id').cast('int'))\\\n",
    "    .withColumn('pickup_datetime',  f.to_timestamp(f.col('pickup_datetime'), 'YYYY-MM-dd HH:mm:ss'))\\\n",
    "    .withColumn('dropoff_datetime',  f.to_timestamp(f.col('dropoff_datetime'), 'YYYY-MM-dd HH:mm:ss'))\\\n",
    "    .withColumn('passenger_count', f.col('passenger_count').cast('int'))\\\n",
    "    .withColumnRenamed('pickup_longitude', 'pickup_lon')\\\n",
    "    .withColumn('pickup_lon', f.col('pickup_lon').cast('double'))\\\n",
    "    .withColumnRenamed('pickup_latitude', 'pickup_lat')\\\n",
    "    .withColumn('pickup_lat', f.col('pickup_lat').cast('double'))\\\n",
    "    .withColumnRenamed('dropoff_longitude', 'dropoff_lon')\\\n",
    "    .withColumn('dropoff_lon', f.col('dropoff_lon').cast('double'))\\\n",
    "    .withColumnRenamed('dropoff_latitude', 'dropoff_lat')\\\n",
    "    .withColumn('dropoff_lat', f.col('dropoff_lat').cast('double'))\\\n",
    "    .withColumn('trip_duration', f.col('trip_duration').cast('int'))\\\n",
    "\n",
    "raw_train_df.printSchema()\n",
    "raw_train_df.show(2)"
   ]
  },
  {
   "cell_type": "markdown",
   "metadata": {},
   "source": [
    "### Trips by date"
   ]
  },
  {
   "cell_type": "code",
   "execution_count": 24,
   "metadata": {},
   "outputs": [
    {
     "name": "stdout",
     "output_type": "stream",
     "text": [
      "+-------+-------+\n",
      "|  month|  count|\n",
      "+-------+-------+\n",
      "|2015-12|1458644|\n",
      "+-------+-------+\n",
      "\n"
     ]
    }
   ],
   "source": [
    "# raw_train_df\\\n",
    "# .withColumn('date', f.to_date(f.col('pickup_datetime')))\\\n",
    "# .groupby('date').count()\\\n",
    "# .show()\n",
    "\n",
    "# raw_train_df\\\n",
    "# .sort(f.asc('pickup_datetime'))\\\n",
    "# .show(5)\n",
    "# raw_train_df\\\n",
    "# .sort(f.desc('pickup_datetime'))\\\n",
    "# .show(5)\n",
    "\n",
    "# raw_train_df\\\n",
    "# .withColumn('date', f.to_date(f.col('pickup_datetime')))\\\n",
    "# .show()\n",
    "#.groupby('date').count()\\\n",
    "raw_train_df.select(f.date_format('pickup_datetime','yyyy-MM').alias('month')).groupby('month').count().show()"
   ]
  },
  {
   "cell_type": "markdown",
   "metadata": {},
   "source": [
    "### Trips by hour"
   ]
  },
  {
   "cell_type": "code",
   "execution_count": 8,
   "metadata": {},
   "outputs": [],
   "source": [
    "trips_by_hour_df_pd = raw_train_df\\\n",
    ".withColumn('hour', f.hour(f.col('pickup_datetime')))\\\n",
    ".groupby('hour').count()\\\n",
    ".sort(f.asc('hour'))\\\n",
    ".toPandas().set_index('hour')"
   ]
  },
  {
   "cell_type": "code",
   "execution_count": null,
   "metadata": {},
   "outputs": [],
   "source": [
    "trips_by_hour_df_pd.plot()"
   ]
  },
  {
   "cell_type": "markdown",
   "metadata": {},
   "source": [
    "## Distribution by trip duration"
   ]
  },
  {
   "cell_type": "code",
   "execution_count": 8,
   "metadata": {},
   "outputs": [],
   "source": [
    "clean_train_df_pd = raw_train_df.groupby('trip_duration').count().sort(f.asc('trip_duration')).toPandas().set_index('trip_duration')"
   ]
  },
  {
   "cell_type": "code",
   "execution_count": 9,
   "metadata": {},
   "outputs": [
    {
     "data": {
      "text/plain": [
       "<matplotlib.axes._subplots.AxesSubplot at 0x111822d68>"
      ]
     },
     "execution_count": 9,
     "metadata": {},
     "output_type": "execute_result"
    },
    {
     "data": {
      "image/png": "[encoded data removed]",
      "text/plain": [
       "<Figure size 432x288 with 1 Axes>"
      ]
     },
     "metadata": {
      "needs_background": "light"
     },
     "output_type": "display_data"
    }
   ],
   "source": [
    "clean_train_df_pd[(clean_train_df_pd.index > 0) & (clean_train_df_pd.index < 6000)].plot()\n"
   ]
  },
  {
   "cell_type": "code",
   "execution_count": 10,
   "metadata": {},
   "outputs": [
    {
     "data": {
      "text/plain": [
       "<matplotlib.axes._subplots.AxesSubplot at 0x111ac2be0>"
      ]
     },
     "execution_count": 10,
     "metadata": {},
     "output_type": "execute_result"
    },
    {
     "data": {
      "image/png": "[encoded data removed]",
      "text/plain": [
       "<Figure size 432x288 with 1 Axes>"
      ]
     },
     "metadata": {
      "needs_background": "light"
     },
     "output_type": "display_data"
    }
   ],
   "source": [
    "clean_train_df_pd[(clean_train_df_pd.index > 0) & (clean_train_df_pd.index < 900)].plot()"
   ]
  },
  {
   "cell_type": "code",
   "execution_count": 11,
   "metadata": {},
   "outputs": [
    {
     "data": {
      "text/plain": [
       "(7417, 5560)"
      ]
     },
     "execution_count": 11,
     "metadata": {},
     "output_type": "execute_result"
    }
   ],
   "source": [
    "len(clean_train_df_pd) , len(clean_train_df_pd[(clean_train_df_pd.index > 90) & (clean_train_df_pd.index < 6000)])"
   ]
  },
  {
   "cell_type": "code",
   "execution_count": 12,
   "metadata": {},
   "outputs": [
    {
     "data": {
      "text/plain": [
       "1440592"
      ]
     },
     "execution_count": 12,
     "metadata": {},
     "output_type": "execute_result"
    }
   ],
   "source": [
    "raw_train_df.where(f.col('trip_duration') > 90).where(f.col('trip_duration') < 7200).count()"
   ]
  },
  {
   "cell_type": "code",
   "execution_count": 13,
   "metadata": {},
   "outputs": [
    {
     "data": {
      "text/plain": [
       "1430511"
      ]
     },
     "execution_count": 13,
     "metadata": {},
     "output_type": "execute_result"
    }
   ],
   "source": [
    "raw_train_df.where(f.col('trip_duration') > 90).where(f.col('trip_duration') < 3600).count()"
   ]
  },
  {
   "cell_type": "markdown",
   "metadata": {},
   "source": [
    "### Mean trip duration by vendor_id"
   ]
  },
  {
   "cell_type": "code",
   "execution_count": 14,
   "metadata": {},
   "outputs": [
    {
     "name": "stdout",
     "output_type": "stream",
     "text": [
      "+---------+------------------+\n",
      "|vendor_id|avg(trip_duration)|\n",
      "+---------+------------------+\n",
      "|        1| 845.4382435408687|\n",
      "|        2|1058.6431638006823|\n",
      "+---------+------------------+\n",
      "\n"
     ]
    }
   ],
   "source": [
    "raw_train_df.groupby('vendor_id').agg(f.mean('trip_duration')).show()"
   ]
  },
  {
   "cell_type": "markdown",
   "metadata": {},
   "source": [
    "### Clean data"
   ]
  },
  {
   "cell_type": "code",
   "execution_count": 15,
   "metadata": {},
   "outputs": [
    {
     "data": {
      "text/plain": [
       "1440578"
      ]
     },
     "execution_count": 15,
     "metadata": {},
     "output_type": "execute_result"
    }
   ],
   "source": [
    "clean_train_df = raw_train_df\\\n",
    ".dropna(subset=['id', 'vendor_id', 'pickup_datetime', 'dropoff_datetime', 'passenger_count', 'pickup_lon', 'pickup_lat', 'dropoff_lon', 'dropoff_lat', 'trip_duration'])\\\n",
    ".where(f.col('passenger_count') > 0)\\\n",
    ".where(f.col('trip_duration') > 0)\\\n",
    ".where(f.col('trip_duration') > 90).where(f.col('trip_duration') < 7200)\n",
    "\n",
    "clean_train_df.count()"
   ]
  },
  {
   "cell_type": "markdown",
   "metadata": {},
   "source": [
    "### Feature engineering"
   ]
  },
  {
   "cell_type": "code",
   "execution_count": 16,
   "metadata": {},
   "outputs": [],
   "source": [
    "import s2sphere\n",
    "from pyspark.sql.types import StringType\n",
    "\n",
    "def cell_id(level: int, lat: int, lng: int) -> str:\n",
    "    return s2sphere.CellId.from_lat_lng(s2sphere.LatLng.from_degrees(lat, lng)).parent(level).to_token()\n",
    "\n",
    "cell_id_udf = f.udf(cell_id, StringType())"
   ]
  },
  {
   "cell_type": "code",
   "execution_count": 17,
   "metadata": {},
   "outputs": [
    {
     "name": "stdout",
     "output_type": "stream",
     "text": [
      "+---------+-------------------+-------------------+---------------+------------------+------------------+------------------+------------------+-------------+--------+----------+\n",
      "|       id|    pickup_datetime|   dropoff_datetime|passenger_count|        pickup_lon|        pickup_lat|       dropoff_lon|       dropoff_lat|trip_duration|cell_l12|  cell_l18|\n",
      "+---------+-------------------+-------------------+---------------+------------------+------------------+------------------+------------------+-------------+--------+----------+\n",
      "|id2875421|2015-12-27 17:24:55|2015-12-27 17:32:30|              1| -73.9821548461914| 40.76793670654297|-73.96463012695312|40.765602111816406|          455| b0fdf7f|b0fdf7e2cf|\n",
      "|id2377394|2015-12-27 00:43:35|2015-12-27 00:54:38|              1|-73.98041534423828|40.738563537597656|-73.99948120117188| 40.73115158081055|          663| b0fdf7f|b0fdf7e6bf|\n",
      "|id3858529|2015-12-27 11:35:24|2015-12-27 12:10:48|              1| -73.9790267944336|40.763938903808594|-74.00533294677734|40.710086822509766|         2124| b0fdf7f|b0fdf7e27b|\n",
      "|id3504673|2015-12-27 19:32:31|2015-12-27 19:39:40|              1|-74.01004028320312|   40.719970703125|-74.01226806640625| 40.70671844482422|          429| b0fdf83|b0fdf827a1|\n",
      "|id2181028|2015-12-27 13:30:55|2015-12-27 13:38:10|              1|-73.97305297851562|40.793209075927734| -73.9729232788086| 40.78252029418945|          435| b102081|b102081a5f|\n",
      "+---------+-------------------+-------------------+---------------+------------------+------------------+------------------+------------------+-------------+--------+----------+\n",
      "only showing top 5 rows\n",
      "\n"
     ]
    }
   ],
   "source": [
    "clean_train_df\\\n",
    ".withColumn('cell_l12', cell_id_udf(f.lit(12), f.col('pickup_lon'), f.col('pickup_lat')))\\\n",
    ".withColumn('cell_l18', cell_id_udf(f.lit(18), f.col('pickup_lon'), f.col('pickup_lat')))\\\n",
    ".drop('vendor_id')\\\n",
    ".show(5)"
   ]
  },
  {
   "cell_type": "code",
   "execution_count": null,
   "metadata": {},
   "outputs": [],
   "source": []
  }
 ],
 "metadata": {
  "kernelspec": {
   "display_name": "Python [conda env:pipeline-oriented-analytics]",
   "language": "python",
   "name": "conda-env-pipeline-oriented-analytics-py"
  },
  "language_info": {
   "codemirror_mode": {
    "name": "ipython",
    "version": 3
   },
   "file_extension": ".py",
   "mimetype": "text/x-python",
   "name": "python",
   "nbconvert_exporter": "python",
   "pygments_lexer": "ipython3",
   "version": "3.6.10"
  }
 },
 "nbformat": 4,
 "nbformat_minor": 2
}
