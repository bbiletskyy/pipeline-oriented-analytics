{
 "cells": [
  {
   "cell_type": "code",
   "execution_count": 1,
   "metadata": {},
   "outputs": [],
   "source": [
    "from pyspark.sql import SparkSession\n",
    "import pyspark.sql.functions as f"
   ]
  },
  {
   "cell_type": "code",
   "execution_count": 2,
   "metadata": {},
   "outputs": [],
   "source": [
    "spark = SparkSession.builder \\\n",
    "    .master(\"local[*]\")\\\n",
    "    .config(\"spark.driver.memory\", \"4g\") \\\n",
    "    .config(\"spark.executor.memory\", \"1g\") \\\n",
    "    .getOrCreate()"
   ]
  },
  {
   "cell_type": "code",
   "execution_count": null,
   "metadata": {},
   "outputs": [],
   "source": [
    "from pyspark.ml import PipelineModel\n",
    "from pipeline_oriented_analytics.transformer import *\n",
    "from typing import List, Dict\n",
    "\n",
    "column_names = ['id', 'pickup_datetime', 'dropoff_datetime', 'passenger_count', 'pickup_longitude', 'pickup_latitude', 'dropoff_longitude', 'dropoff_latitude', 'trip_duration']\n",
    "column_new_names = {'pickup_longitude': 'pickup_lon', 'pickup_latitude': 'pickup_lat', 'dropoff_longitude': 'dropoff_lon', 'dropoff_latitude': 'dropoff_lat', 'trip_duration': 'duration'}\n",
    "column_types = {'id': 'string', 'pickup_datetime': 'timestamp', 'dropoff_datetime': 'timestamp', 'pickup_lon': 'double', 'pickup_lat': 'double', 'dropoff_lon': 'double', 'dropoff_lat': 'double', 'duration': 'int'}\n",
    "\n",
    "def load_trips(column_names: List[str], column_new_names: List[str], column_types: Dict[str, str]) -> PipelineModel:\n",
    "    return PipelineModel([\n",
    "        SelectColumns(column_names),\n",
    "        RenameColumns(column_new_names),\n",
    "        NormalizeColumnTypes(column_types)\n",
    "    ])\n",
    "\n",
    "train_df = PipelineModel([\n",
    "    SelectColumns(column_names),\n",
    "    RenameColumns(column_new_names),\n",
    "    NormalizeColumnTypes(column_types)\n",
    "]).transform(CsvDataFrame('../data/raw/train.csv', spark))\n",
    "\n",
    "df.count()\n",
    "df.show(5)\n",
    "df.printSchema()"
   ]
  },
  {
   "cell_type": "code",
   "execution_count": null,
   "metadata": {},
   "outputs": [],
   "source": [
    "df.sort(f.asc('pickup_datetime')).show(5)"
   ]
  },
  {
   "cell_type": "code",
   "execution_count": null,
   "metadata": {},
   "outputs": [],
   "source": [
    "df.sort(f.desc('pickup_datetime')).show(5)"
   ]
  },
  {
   "cell_type": "code",
   "execution_count": null,
   "metadata": {},
   "outputs": [],
   "source": [
    "df.withColumn('year', f.year('pickup_datetime'))\\\n",
    ".withColumn('month', f.month('pickup_datetime'))\\\n",
    ".withColumn('day', f.dayofmonth('pickup_datetime'))\\\n",
    ".select('year', 'month', 'day')\\\n",
    ".groupby('year', 'month').count()\\\n",
    ".sort(f.asc('year'), f.asc('month'))\\\n",
    ".show(400)"
   ]
  },
  {
   "cell_type": "code",
   "execution_count": null,
   "metadata": {},
   "outputs": [],
   "source": [
    "test_df = load_trips(column_names, column_new_names, column_types).transform(CsvDataFrame('../data/raw/test.csv', spark))\n",
    "\n",
    "test_df.count()\n",
    "test_df.show(2)\n",
    "test_df.printSchema()"
   ]
  },
  {
   "cell_type": "code",
   "execution_count": null,
   "metadata": {},
   "outputs": [],
   "source": [
    "test_df = CsvDataFrame('../data/raw/test.csv', spark)"
   ]
  },
  {
   "cell_type": "code",
   "execution_count": null,
   "metadata": {},
   "outputs": [],
   "source": [
    "test_df.count()\n",
    "test_df.show(2)\n"
   ]
  },
  {
   "cell_type": "code",
   "execution_count": null,
   "metadata": {},
   "outputs": [],
   "source": [
    "column_names = ['id', 'pickup_datetime', 'passenger_count', 'pickup_longitude', 'pickup_latitude', 'dropoff_longitude', 'dropoff_latitude']\n",
    "column_new_names = {'pickup_longitude': 'pickup_lon', 'pickup_latitude': 'pickup_lat', 'dropoff_longitude': 'dropoff_lon', 'dropoff_latitude': 'dropoff_lat'}\n",
    "column_types = {'id': 'string', 'pickup_datetime': 'timestamp', 'pickup_lon': 'double', 'pickup_lat': 'double', 'dropoff_lon': 'double', 'dropoff_lat': 'double'}\n",
    "\n",
    "test_df = load_trips(column_names, column_new_names, column_types).transform(CsvDataFrame('../data/raw/test.csv', spark))\n",
    "\n",
    "test_df.count()\n",
    "test_df.show(2)\n",
    "test_df.printSchema()"
   ]
  },
  {
   "cell_type": "code",
   "execution_count": null,
   "metadata": {},
   "outputs": [],
   "source": [
    "test_df.sort(f.unix_timestamp('pickup_datetime').desc()).show(5)"
   ]
  },
  {
   "cell_type": "code",
   "execution_count": null,
   "metadata": {},
   "outputs": [],
   "source": []
  },
  {
   "cell_type": "code",
   "execution_count": null,
   "metadata": {},
   "outputs": [],
   "source": []
  },
  {
   "cell_type": "code",
   "execution_count": 6,
   "metadata": {},
   "outputs": [
    {
     "name": "stdout",
     "output_type": "stream",
     "text": [
      "+--------------+---------------+\n",
      "|pickup_cell_18|dropoff_cell_18|\n",
      "+--------------+---------------+\n",
      "|    89c259ae67|     89c258ec75|\n",
      "|    89c259bd67|     89c258596f|\n",
      "+--------------+---------------+\n",
      "only showing top 2 rows\n",
      "\n",
      "root\n",
      " |-- pickup_cell_18: string (nullable = true)\n",
      " |-- dropoff_cell_18: string (nullable = true)\n",
      "\n"
     ]
    },
    {
     "data": {
      "text/plain": [
       "2000986"
      ]
     },
     "execution_count": 6,
     "metadata": {},
     "output_type": "execute_result"
    }
   ],
   "source": [
    "from pyspark.ml import PipelineModel\n",
    "from pipeline_oriented_analytics.transformer import *\n",
    "from pipeline_oriented_analytics.dataframe import *\n",
    "from typing import List, Dict\n",
    "\n",
    "def load_trips(column_names: List[str], column_new_names: List[str], column_types: Dict[str, str]) -> PipelineModel:\n",
    "    return PipelineModel([\n",
    "        SelectColumns(column_names),\n",
    "        RenameColumns(column_new_names),\n",
    "        NormalizeColumnTypes(column_types)\n",
    "    ])\n",
    "\n",
    "column_names = ['pickup_datetime', 'pickup_longitude', 'pickup_latitude', 'dropoff_longitude', 'dropoff_latitude']\n",
    "column_new_names = {'pickup_longitude': 'pickup_lon', 'pickup_latitude': 'pickup_lat', 'dropoff_longitude': 'dropoff_lon', 'dropoff_latitude': 'dropoff_lat'}\n",
    "column_types = {'pickup_lon': 'double', 'pickup_lat': 'double', 'dropoff_lon': 'double', 'dropoff_lat': 'double'}\n",
    "\n",
    "df = PipelineModel([\n",
    "    load_trips(column_names, column_new_names, column_types),\n",
    "    CellId(18, 'pickup_lat', 'pickup_lon', 'pickup_cell'),\n",
    "    CellId(18, 'dropoff_lat', 'dropoff_lon', 'dropoff_cell'),\n",
    "    Union(\n",
    "        PipelineModel([\n",
    "            load_trips(column_names, column_new_names, column_types),\n",
    "            CellId(18, 'pickup_lat', 'pickup_lon', 'pickup_cell'),\n",
    "            CellId(18, 'dropoff_lat', 'dropoff_lon', 'dropoff_cell')\n",
    "        ]).transform((CsvDataFrame('../data/raw/test.csv', spark)))\n",
    "    ),\n",
    "    SelectColumns(['pickup_cell_18', 'dropoff_cell_18']),\n",
    "    DropDuplicates()\n",
    "]).transform(CsvDataFrame('../data/raw/train.csv', spark))\n",
    "\n",
    "\n",
    "df.show(2)\n",
    "df.printSchema()\n",
    "df.count()"
   ]
  },
  {
   "cell_type": "code",
   "execution_count": 4,
   "metadata": {},
   "outputs": [
    {
     "data": {
      "text/plain": [
       "9248"
      ]
     },
     "execution_count": 4,
     "metadata": {},
     "output_type": "execute_result"
    }
   ],
   "source": [
    "df.count()"
   ]
  },
  {
   "cell_type": "code",
   "execution_count": null,
   "metadata": {},
   "outputs": [],
   "source": []
  }
 ],
 "metadata": {
  "kernelspec": {
   "display_name": "Python [conda env:pipeline-oriented-analytics]",
   "language": "python",
   "name": "conda-env-pipeline-oriented-analytics-py"
  },
  "language_info": {
   "codemirror_mode": {
    "name": "ipython",
    "version": 3
   },
   "file_extension": ".py",
   "mimetype": "text/x-python",
   "name": "python",
   "nbconvert_exporter": "python",
   "pygments_lexer": "ipython3",
   "version": "3.6.10"
  }
 },
 "nbformat": 4,
 "nbformat_minor": 2
}
