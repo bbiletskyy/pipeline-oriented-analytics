{
 "cells": [
  {
   "cell_type": "code",
   "execution_count": 3,
   "metadata": {},
   "outputs": [],
   "source": [
    "from pyspark.sql import SparkSession\n",
    "import pyspark.sql.functions as f"
   ]
  },
  {
   "cell_type": "code",
   "execution_count": 4,
   "metadata": {},
   "outputs": [],
   "source": [
    "spark = SparkSession.builder \\\n",
    "    .master(\"local[*]\")\\\n",
    "    .config(\"spark.driver.memory\", \"4g\") \\\n",
    "    .config(\"spark.executor.memory\", \"1g\") \\\n",
    "    .getOrCreate()"
   ]
  },
  {
   "cell_type": "code",
   "execution_count": 7,
   "metadata": {},
   "outputs": [
    {
     "name": "stdout",
     "output_type": "stream",
     "text": [
      "+--------------+---------------+--------+\n",
      "|pickup_cell_14|dropoff_cell_14|distance|\n",
      "+--------------+---------------+--------+\n",
      "|      89c258fd|       89c259a9|    1.35|\n",
      "|      89c258f5|       89c25855|    1.63|\n",
      "+--------------+---------------+--------+\n",
      "only showing top 2 rows\n",
      "\n",
      "root\n",
      " |-- pickup_cell_14: string (nullable = true)\n",
      " |-- dropoff_cell_14: string (nullable = true)\n",
      " |-- distance: float (nullable = true)\n",
      "\n",
      "Distance entries: 126668\n",
      "Avg distance 8.024320740666472\n",
      "Zero distanxe trips count 1621\n"
     ]
    }
   ],
   "source": [
    "from pyspark.ml import PipelineModel\n",
    "from pipeline_oriented_analytics.transformer import *\n",
    "from pipeline_oriented_analytics.dataframe import *\n",
    "from typing import List, Dict\n",
    "\n",
    "column_names = ['pickup_datetime', 'pickup_longitude', 'pickup_latitude', 'dropoff_longitude', 'dropoff_latitude']\n",
    "column_new_names = {'pickup_longitude': 'pickup_lon', 'pickup_latitude': 'pickup_lat', 'dropoff_longitude': 'dropoff_lon', 'dropoff_latitude': 'dropoff_lat'}\n",
    "column_types = {'pickup_lon': 'double', 'pickup_lat': 'double', 'dropoff_lon': 'double', 'dropoff_lat': 'double'}\n",
    "level = 6\n",
    "pickup_cell = f'pickup_cell_{level}'\n",
    "dropoff_cell = f'dropoff_cell_{level}'\n",
    "\n",
    "def PREPARE_TRIP_DATA(level: int, column_names: List[str], column_new_names: List[str], column_types: Dict[str, str]) -> PipelineModel: \n",
    "    return PipelineModel([\n",
    "        SelectColumns(column_names),\n",
    "        RenameColumns(column_new_names),\n",
    "        NormalizeColumnTypes(column_types),\n",
    "        CellId(level, 'pickup_lat', 'pickup_lon', pickup_cell),\n",
    "        CellId(level, 'dropoff_lat', 'dropoff_lon', dropoff_cell)\n",
    "    ])\n",
    "\n",
    "\n",
    "df = PipelineModel([\n",
    "    PREPARE_TRIP_DATA(level, column_names, column_new_names, column_types),\n",
    "    Union(\n",
    "        PREPARE_TRIP_DATA(level, column_names, column_new_names, column_types).transform((CsvDataFrame('../data/raw/test.csv', spark)))\n",
    "    ),\n",
    "    SelectColumns([pickup_cell, dropoff_cell]),\n",
    "    DropDuplicates(),\n",
    "    SphereDistance(pickup_cell, dropoff_cell),\n",
    "    SaveToParquet('../data/processed/distance_matrix')\n",
    "]).transform(CsvDataFrame('../data/raw/train.csv', spark)).cache()\n",
    "\n",
    "\n",
    "df.show(2)\n",
    "df.printSchema()\n",
    "print(f'Distance entries: {df.count()}')\n",
    "print(f'Avg distance {df.groupby().avg(\"distance\").collect()[0].asDict()[\"avg(distance)\"]}')\n",
    "print(f'Zero distanxe trips count {df.where(f.col(\"distance\") == 0).count()}')      \n"
   ]
  },
  {
   "cell_type": "code",
   "execution_count": null,
   "metadata": {},
   "outputs": [],
   "source": []
  }
 ],
 "metadata": {
  "kernelspec": {
   "display_name": "Python [conda env:pipeline-oriented-analytics]",
   "language": "python",
   "name": "conda-env-pipeline-oriented-analytics-py"
  },
  "language_info": {
   "codemirror_mode": {
    "name": "ipython",
    "version": 3
   },
   "file_extension": ".py",
   "mimetype": "text/x-python",
   "name": "python",
   "nbconvert_exporter": "python",
   "pygments_lexer": "ipython3",
   "version": "3.6.10"
  }
 },
 "nbformat": 4,
 "nbformat_minor": 2
}
