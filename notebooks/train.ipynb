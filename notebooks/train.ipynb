{
 "cells": [
  {
   "cell_type": "code",
   "execution_count": 1,
   "metadata": {},
   "outputs": [],
   "source": [
    "from pyspark.sql import SparkSession\n",
    "import pyspark.sql.functions as f"
   ]
  },
  {
   "cell_type": "code",
   "execution_count": 2,
   "metadata": {},
   "outputs": [],
   "source": [
    "spark = SparkSession.builder \\\n",
    "    .master(\"local[*]\")\\\n",
    "    .config(\"spark.driver.memory\", \"4g\") \\\n",
    "    .config(\"spark.executor.memory\", \"1g\") \\\n",
    "    .getOrCreate()"
   ]
  },
  {
   "cell_type": "code",
   "execution_count": 3,
   "metadata": {},
   "outputs": [],
   "source": [
    "from pipeline_oriented_analytics.dataframe import CsvDataFrame, ParquetDataFrame\n",
    "from pipeline_oriented_analytics import Phase\n",
    "\n",
    "features_df = ParquetDataFrame(f'../data/processed/{Phase.train.name.lower()}/features', spark)\n",
    "test_data_frac = 0.1\n",
    "test_features_df, train_features_df = features_df.randomSplit([test_data_frac, 1-test_data_frac])"
   ]
  },
  {
   "cell_type": "code",
   "execution_count": 9,
   "metadata": {},
   "outputs": [],
   "source": [
    "from pyspark.ml import Pipeline\n",
    "from pyspark.ml.feature import StringIndexer\n",
    "from pyspark.ml.feature import VectorAssembler\n",
    "from pyspark.ml.regression import DecisionTreeRegressor\n",
    "\n",
    "label_col = 'duration_min'\n",
    "model = Pipeline(stages=[\n",
    "    StringIndexer(inputCol='pickup_cell_8', handleInvalid='keep', outputCol='pickup_cell_8_idx'),\n",
    "    StringIndexer(inputCol='dropoff_cell_8', handleInvalid='keep', outputCol='dropoff_cell_8_idx'),\n",
    "    VectorAssembler(inputCols=['pickup_cell_8_idx', 'dropoff_cell_8_idx', 'distance', 'month', 'day_of_month', \n",
    "                               'day_of_week', 'hour', 'requests_pickup_cell', 'requests_dropoff_cell'], outputCol=\"features\"),\n",
    "    DecisionTreeRegressor(maxDepth=7, featuresCol='features', labelCol=label_col, maxBins=100)\n",
    "]).fit(train_features_df)"
   ]
  },
  {
   "cell_type": "code",
   "execution_count": 13,
   "metadata": {},
   "outputs": [
    {
     "name": "stdout",
     "output_type": "stream",
     "text": [
      "Saving model to ../model/trip_duration_min\n",
      "Model saved...\n"
     ]
    }
   ],
   "source": [
    "model_path = '../model/trip_duration_min'\n",
    "print(f'Saving model to {model_path}')\n",
    "model.write().overwrite().save(model_path)\n",
    "print(f'Model saved...')"
   ]
  },
  {
   "cell_type": "code",
   "execution_count": 16,
   "metadata": {},
   "outputs": [
    {
     "name": "stdout",
     "output_type": "stream",
     "text": [
      "Best model MAE: 6.872564895418289\n"
     ]
    }
   ],
   "source": [
    "from pyspark.ml.evaluation import RegressionEvaluator\n",
    "from pyspark.ml import PipelineModel\n",
    "\n",
    "model = PipelineModel.load(model_path)\n",
    "predictions_df = model.transform(test_features_df)\n",
    "mae_cv = RegressionEvaluator(labelCol=label_col, metricName='mae').evaluate(predictions_df)\n",
    "print(f'Mean absolutre error: {mae_cv}')"
   ]
  },
  {
   "cell_type": "code",
   "execution_count": null,
   "metadata": {},
   "outputs": [],
   "source": []
  },
  {
   "cell_type": "code",
   "execution_count": 20,
   "metadata": {},
   "outputs": [
    {
     "name": "stdout",
     "output_type": "stream",
     "text": [
      "+------------------+\n",
      "| avg(duration_min)|\n",
      "+------------------+\n",
      "|16.010745581160823|\n",
      "+------------------+\n",
      "\n"
     ]
    }
   ],
   "source": [
    "predictions_df.groupby().agg(f.mean(label_col)).show()"
   ]
  },
  {
   "cell_type": "code",
   "execution_count": null,
   "metadata": {},
   "outputs": [],
   "source": []
  }
 ],
 "metadata": {
  "kernelspec": {
   "display_name": "Python [conda env:pipeline-oriented-analytics]",
   "language": "python",
   "name": "conda-env-pipeline-oriented-analytics-py"
  },
  "language_info": {
   "codemirror_mode": {
    "name": "ipython",
    "version": 3
   },
   "file_extension": ".py",
   "mimetype": "text/x-python",
   "name": "python",
   "nbconvert_exporter": "python",
   "pygments_lexer": "ipython3",
   "version": "3.6.10"
  }
 },
 "nbformat": 4,
 "nbformat_minor": 2
}
