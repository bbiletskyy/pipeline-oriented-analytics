{
 "cells": [
  {
   "cell_type": "code",
   "execution_count": 1,
   "metadata": {},
   "outputs": [],
   "source": [
    "from pyspark.sql import SparkSession\n",
    "import pyspark.sql.functions as f"
   ]
  },
  {
   "cell_type": "code",
   "execution_count": 2,
   "metadata": {},
   "outputs": [],
   "source": [
    "spark = SparkSession.builder \\\n",
    "    .master(\"local[*]\")\\\n",
    "    .config(\"spark.driver.memory\", \"4g\") \\\n",
    "    .config(\"spark.executor.memory\", \"1g\") \\\n",
    "    .getOrCreate()"
   ]
  },
  {
   "cell_type": "code",
   "execution_count": 3,
   "metadata": {},
   "outputs": [],
   "source": [
    "from pipeline_oriented_analytics import Phase\n",
    "phase = Phase.predict\n",
    "\n",
    "data_to_predict_path = f'../data/processed/{phase.name}/features'\n",
    "model_path = '../model/trip_duration_min'\n",
    "predicted_data_path = '../data/reporting/trip_durations'"
   ]
  },
  {
   "cell_type": "code",
   "execution_count": 4,
   "metadata": {},
   "outputs": [
    {
     "name": "stdout",
     "output_type": "stream",
     "text": [
      "+--------------+-------------+---------+---------------+--------+-----+------------+-----------+----+--------------------+---------------------+-----------------+\n",
      "|dropoff_cell_6|pickup_cell_6|       id|passenger_count|distance|month|day_of_month|day_of_week|hour|requests_pickup_cell|requests_dropoff_cell|       prediction|\n",
      "+--------------+-------------+---------+---------------+--------+-----+------------+-----------+----+--------------------+---------------------+-----------------+\n",
      "|          89c3|         89c3|id1949435|              1|    1.35|    6|          30|          5|  21|                  53|                   53|7.223529411764706|\n",
      "|          89c3|         89c3|id3246513|              1|   10.82|    6|          30|          5|  21|                  53|                   53|            103.0|\n",
      "+--------------+-------------+---------+---------------+--------+-----+------------+-----------+----+--------------------+---------------------+-----------------+\n",
      "only showing top 2 rows\n",
      "\n"
     ]
    }
   ],
   "source": [
    "from pyspark.ml import PipelineModel\n",
    "from pipeline_oriented_analytics.dataframe import ParquetDataFrame\n",
    "from pipeline_oriented_analytics.transformer import DropColumns, SaveToParquet\n",
    "\n",
    "model = PipelineModel.load(model_path)\n",
    "\n",
    "predicted_df = PipelineModel([\n",
    "    model,\n",
    "    DropColumns(inputCols=['features', 'pickup_cell_6_idx', 'dropoff_cell_6_idx']),\n",
    "    SaveToParquet(predicted_data_path)\n",
    "]).transform(ParquetDataFrame(data_to_predict_path, spark))\n",
    "\n",
    "predicted_df.show(2)\n",
    "spark.stop()"
   ]
  },
  {
   "cell_type": "code",
   "execution_count": null,
   "metadata": {},
   "outputs": [],
   "source": []
  }
 ],
 "metadata": {
  "kernelspec": {
   "display_name": "Python [conda env:pipeline-oriented-analytics]",
   "language": "python",
   "name": "conda-env-pipeline-oriented-analytics-py"
  },
  "language_info": {
   "codemirror_mode": {
    "name": "ipython",
    "version": 3
   },
   "file_extension": ".py",
   "mimetype": "text/x-python",
   "name": "python",
   "nbconvert_exporter": "python",
   "pygments_lexer": "ipython3",
   "version": "3.6.10"
  }
 },
 "nbformat": 4,
 "nbformat_minor": 2
}
