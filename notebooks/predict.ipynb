{
 "cells": [
  {
   "cell_type": "code",
   "execution_count": 1,
   "metadata": {},
   "outputs": [],
   "source": [
    "from pyspark.sql import SparkSession\n",
    "import pyspark.sql.functions as f"
   ]
  },
  {
   "cell_type": "code",
   "execution_count": 2,
   "metadata": {},
   "outputs": [],
   "source": [
    "spark = SparkSession.builder \\\n",
    "    .master(\"local[*]\")\\\n",
    "    .config(\"spark.driver.memory\", \"4g\") \\\n",
    "    .config(\"spark.executor.memory\", \"1g\") \\\n",
    "    .getOrCreate()"
   ]
  },
  {
   "cell_type": "code",
   "execution_count": 3,
   "metadata": {},
   "outputs": [],
   "source": [
    "from pipeline_oriented_analytics import Phase\n",
    "phase = Phase.predict\n",
    "\n",
    "data_to_predict_path = f'../data/processed/{phase.name}/features'\n",
    "model_path = '../model/trip_duration_min'\n",
    "predicted_data_path = '../data/reporting/trip_durations'"
   ]
  },
  {
   "cell_type": "code",
   "execution_count": 7,
   "metadata": {},
   "outputs": [
    {
     "name": "stdout",
     "output_type": "stream",
     "text": [
      "+--------------+-------------+--------------+---------------+--------+-----+------------+-----------+----+--------------------+---------------------+-----------------+------------------+--------------------+------------------+\n",
      "|dropoff_cell_6|pickup_cell_6|pickup_cell_14|dropoff_cell_14|distance|month|day_of_month|day_of_week|hour|requests_pickup_cell|requests_dropoff_cell|pickup_cell_6_idx|dropoff_cell_6_idx|            features|        prediction|\n",
      "+--------------+-------------+--------------+---------------+--------+-----+------------+-----------+----+--------------------+---------------------+-----------------+------------------+--------------------+------------------+\n",
      "|          89c3|         89c3|      89c259a3|       89c258f9|    2.75|    1|           4|          2|  14|                  40|                   40|              0.0|               0.0|[0.0,0.0,2.75,1.0...| 17.32501243612355|\n",
      "|          89c3|         89c3|      89c258c3|       89c258bf|     1.1|    1|           4|          2|  14|                  40|                   40|              0.0|               0.0|[0.0,0.0,1.100000...| 4.768450964842717|\n",
      "|          89c3|         89c3|      89c258a3|       89c258b7|    1.62|    1|           4|          2|  14|                  40|                   40|              0.0|               0.0|[0.0,0.0,1.620000...|12.116084586579696|\n",
      "|          89c3|         89c3|      89c25983|       89c2599f|     1.1|    1|           4|          2|  14|                  40|                   40|              0.0|               0.0|[0.0,0.0,1.100000...| 4.768450964842717|\n",
      "|          89c3|         89c3|      89c258a5|       89c2588f|    1.99|    1|           4|          2|  14|                  40|                   40|              0.0|               0.0|[0.0,0.0,1.990000...|13.403963963963966|\n",
      "|          89c3|         89c3|      89c25f89|       89c25b6b|   15.21|    1|           4|          2|  14|                  40|                   40|              0.0|               0.0|[0.0,0.0,15.21000...|  49.2210163339383|\n",
      "|          89c3|         89c3|      89c259ad|       89c25909|    1.62|    1|           4|          2|  14|                  40|                   40|              0.0|               0.0|[0.0,0.0,1.620000...|12.116084586579696|\n",
      "|          89c3|         89c3|      89c25889|       89c2588d|    0.81|    1|           4|          2|  14|                  40|                   40|              0.0|               0.0|[0.0,0.0,0.810000...| 4.768450964842717|\n",
      "|          89c3|         89c3|      89c25a17|       89c25ff3|   14.23|    1|           4|          2|  14|                  40|                   40|              0.0|               0.0|[0.0,0.0,14.22999...|25.087474610697363|\n",
      "|          89c3|         89c3|      89c258e5|       89c258e5|     0.0|    1|           4|          2|  14|                  40|                   40|              0.0|               0.0|[0.0,0.0,0.0,1.0,...|6.3728876508820775|\n",
      "|          89c3|         89c3|      89c258bd|       89c258eb|    1.12|    1|           4|          2|  14|                  40|                   40|              0.0|               0.0|[0.0,0.0,1.120000...| 4.768450964842717|\n",
      "|          89c3|         89c3|      89c25f8b|       89c25e35|    4.51|    1|           4|          2|  14|                  40|                   40|              0.0|               0.0|[0.0,0.0,4.510000...|21.751286173633428|\n",
      "|          89c3|         89c3|      89c25983|       89c2599d|    0.55|    1|           4|          2|  14|                  40|                   40|              0.0|               0.0|[0.0,0.0,0.550000...|6.3728876508820775|\n",
      "|          89c3|         89c3|      89c25857|       89c26659|   21.78|    1|           4|          2|  14|                  40|                   40|              0.0|               0.0|[0.0,0.0,21.78000...|  49.2210163339383|\n",
      "|          89c3|         89c3|      89c25a1b|       89c25983|    2.75|    1|           4|          2|  14|                  40|                   40|              0.0|               0.0|[0.0,0.0,2.75,1.0...| 17.32501243612355|\n",
      "|          89c3|         89c3|      89c258a3|       89c258bd|    0.55|    1|           4|          2|  14|                  40|                   40|              0.0|               0.0|[0.0,0.0,0.550000...|6.3728876508820775|\n",
      "|          89c3|         89c3|      89c25895|       89c259a9|    3.53|    1|           4|          2|  14|                  40|                   40|              0.0|               0.0|[0.0,0.0,3.529999...|19.787541323526526|\n",
      "|          89c3|         89c3|      89c25909|       89c2590b|    0.55|    1|           4|          2|  14|                  40|                   40|              0.0|               0.0|[0.0,0.0,0.550000...|6.3728876508820775|\n",
      "|          89c3|         89c3|      89c259f5|       89c25993|    1.12|    1|           4|          2|  14|                  40|                   40|              0.0|               0.0|[0.0,0.0,1.120000...| 4.768450964842717|\n",
      "|          89c3|         89c3|      89c2588b|       89c25889|    0.55|    1|           4|          2|  14|                  40|                   40|              0.0|               0.0|[0.0,0.0,0.550000...|6.3728876508820775|\n",
      "+--------------+-------------+--------------+---------------+--------+-----+------------+-----------+----+--------------------+---------------------+-----------------+------------------+--------------------+------------------+\n",
      "only showing top 20 rows\n",
      "\n"
     ]
    }
   ],
   "source": [
    "from pipeline_oriented_analytics.dataframe import ParquetDataFrame\n",
    "from pipeline_oriented_analytics.transformer import SaveToParquet, DropColumns\n",
    "from pyspark.ml import PipelineModel\n",
    "\n",
    "model = PipelineModel.load(model_path)\n",
    "\n",
    "predicted_df = PipelineModel([\n",
    "    model,\n",
    "    DropColumns('features'),\n",
    "    SaveToParquet('../data/reporting/predicted_trip_durations')\n",
    "]).transform(ParquetDataFrame(data_to_predict_path, spark))\n",
    "\n",
    "predicted_df.show()"
   ]
  },
  {
   "cell_type": "code",
   "execution_count": null,
   "metadata": {},
   "outputs": [],
   "source": []
  },
  {
   "cell_type": "code",
   "execution_count": null,
   "metadata": {},
   "outputs": [],
   "source": []
  },
  {
   "cell_type": "code",
   "execution_count": null,
   "metadata": {},
   "outputs": [],
   "source": []
  },
  {
   "cell_type": "code",
   "execution_count": null,
   "metadata": {},
   "outputs": [],
   "source": []
  }
 ],
 "metadata": {
  "kernelspec": {
   "display_name": "Python [conda env:pipeline-oriented-analytics]",
   "language": "python",
   "name": "conda-env-pipeline-oriented-analytics-py"
  },
  "language_info": {
   "codemirror_mode": {
    "name": "ipython",
    "version": 3
   },
   "file_extension": ".py",
   "mimetype": "text/x-python",
   "name": "python",
   "nbconvert_exporter": "python",
   "pygments_lexer": "ipython3",
   "version": "3.6.10"
  }
 },
 "nbformat": 4,
 "nbformat_minor": 2
}
