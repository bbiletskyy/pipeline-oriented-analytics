{
 "cells": [
  {
   "cell_type": "code",
   "execution_count": 1,
   "metadata": {},
   "outputs": [],
   "source": [
    "from pyspark.sql import SparkSession\n",
    "import pyspark.sql.functions as f"
   ]
  },
  {
   "cell_type": "code",
   "execution_count": 2,
   "metadata": {},
   "outputs": [],
   "source": [
    "spark = SparkSession.builder \\\n",
    "    .master(\"local[*]\")\\\n",
    "    .config(\"spark.driver.memory\", \"4g\") \\\n",
    "    .config(\"spark.executor.memory\", \"1g\") \\\n",
    "    .getOrCreate()"
   ]
  },
  {
   "cell_type": "code",
   "execution_count": 3,
   "metadata": {},
   "outputs": [],
   "source": [
    "from pipeline_oriented_analytics import Phase\n",
    "phase = Phase.predict\n",
    "\n",
    "data_to_predict_path = f'../data/processed/{phase.name}/features'\n",
    "model_path = '../model/trip_duration_min'\n",
    "predicted_data_path = '../data/reporting/trip_durations'"
   ]
  },
  {
   "cell_type": "code",
   "execution_count": 6,
   "metadata": {},
   "outputs": [
    {
     "name": "stdout",
     "output_type": "stream",
     "text": [
      "+--------------+-------------+---------+--------+-----+------------+-----------+----+--------------------+---------------------+-----------------+------------------+------------------+\n",
      "|dropoff_cell_8|pickup_cell_8|       id|distance|month|day_of_month|day_of_week|hour|requests_pickup_cell|requests_dropoff_cell|pickup_cell_8_idx|dropoff_cell_8_idx|        prediction|\n",
      "+--------------+-------------+---------+--------+-----+------------+-----------+----+--------------------+---------------------+-----------------+------------------+------------------+\n",
      "|         89c25|        89c25|id2463079|    3.25|    1|           4|          2|  13|                  31|                   31|              0.0|               0.0|15.574324324324325|\n",
      "|         89c25|        89c25|id0750307|    4.17|    1|           4|          2|  13|                  31|                   31|              0.0|               0.0|13.483056900246012|\n",
      "+--------------+-------------+---------+--------+-----+------------+-----------+----+--------------------+---------------------+-----------------+------------------+------------------+\n",
      "only showing top 2 rows\n",
      "\n"
     ]
    }
   ],
   "source": [
    "model = PipelineModel.load(model_path)\n",
    "\n",
    "predicted_df = PipelineModel([\n",
    "    model,\n",
    "    DropColumns(inputCols=['features']),\n",
    "    SaveToParquet(predicted_data_path)\n",
    "]).transform(ParquetDataFrame(data_to_predict_path, spark))\n",
    "\n",
    "predicted_df.show(2)\n",
    "spark.stop()"
   ]
  },
  {
   "cell_type": "code",
   "execution_count": 7,
   "metadata": {},
   "outputs": [
    {
     "name": "stdout",
     "output_type": "stream",
     "text": [
      "+-----------------+------+\n",
      "|pickup_cell_6_idx| count|\n",
      "+-----------------+------+\n",
      "|              0.0|625112|\n",
      "|              7.0|     1|\n",
      "|              1.0|     7|\n",
      "|             11.0|     1|\n",
      "|              2.0|     6|\n",
      "|              6.0|     1|\n",
      "|              5.0|     1|\n",
      "|             26.0|     4|\n",
      "|             16.0|     1|\n",
      "+-----------------+------+\n",
      "\n"
     ]
    }
   ],
   "source": [
    "predicted_df.select('pickup_cell_6_idx').groupby('pickup_cell_6_idx').count().show()"
   ]
  },
  {
   "cell_type": "code",
   "execution_count": null,
   "metadata": {},
   "outputs": [],
   "source": []
  }
 ],
 "metadata": {
  "kernelspec": {
   "display_name": "Python [conda env:pipeline-oriented-analytics]",
   "language": "python",
   "name": "conda-env-pipeline-oriented-analytics-py"
  },
  "language_info": {
   "codemirror_mode": {
    "name": "ipython",
    "version": 3
   },
   "file_extension": ".py",
   "mimetype": "text/x-python",
   "name": "python",
   "nbconvert_exporter": "python",
   "pygments_lexer": "ipython3",
   "version": "3.6.10"
  }
 },
 "nbformat": 4,
 "nbformat_minor": 2
}
