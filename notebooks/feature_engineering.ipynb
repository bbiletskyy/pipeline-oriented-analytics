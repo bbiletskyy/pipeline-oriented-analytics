{
 "cells": [
  {
   "cell_type": "code",
   "execution_count": 1,
   "metadata": {},
   "outputs": [],
   "source": [
    "from pyspark.sql import SparkSession\n",
    "import pyspark.sql.functions as f"
   ]
  },
  {
   "cell_type": "code",
   "execution_count": 2,
   "metadata": {},
   "outputs": [],
   "source": [
    "spark = SparkSession.builder \\\n",
    "    .master(\"local[*]\")\\\n",
    "    .config(\"spark.driver.memory\", \"4g\") \\\n",
    "    .config(\"spark.executor.memory\", \"1g\") \\\n",
    "    .getOrCreate()"
   ]
  },
  {
   "cell_type": "code",
   "execution_count": 8,
   "metadata": {},
   "outputs": [
    {
     "name": "stdout",
     "output_type": "stream",
     "text": [
      "Saved 999 rows predict features\n",
      "+--------------+---------------------+-------------+--------------------+---------+---------------+--------+-----+------------+-----------+----+\n",
      "|dropoff_cell_6|requests_dropoff_cell|pickup_cell_6|requests_pickup_cell|       id|passenger_count|distance|month|day_of_month|day_of_week|hour|\n",
      "+--------------+---------------------+-------------+--------------------+---------+---------------+--------+-----+------------+-----------+----+\n",
      "|          89c3|                   67|         89c3|                  67|id0868004|              2|    2.69|    6|          30|          5|  21|\n",
      "|          89c3|                   67|         89c3|                  67|id2736277|              1|    4.43|    6|          30|          5|  21|\n",
      "+--------------+---------------------+-------------+--------------------+---------+---------------+--------+-----+------------+-----------+----+\n",
      "only showing top 2 rows\n",
      "\n"
     ]
    }
   ],
   "source": [
    "from pipeline_oriented_analytics.pipe import Pipe, IF\n",
    "from pipeline_oriented_analytics.transformer import *\n",
    "from pipeline_oriented_analytics.transformer.feature import *\n",
    "from typing import List, Dict\n",
    "from pipeline_oriented_analytics.dataframe import CsvDataFrame, ParquetDataFrame\n",
    "from pipeline_oriented_analytics import Phase\n",
    "\n",
    "#phase = Phase.train\n",
    "phase = Phase.predict\n",
    "\n",
    "def in_train_phase(df: DataFrame) -> bool:\n",
    "    return 'duration_sec' in df.columns\n",
    "\n",
    "features_df = Pipe([\n",
    "    Time('pickup_datetime', [Time.Feature.month, Time.Feature.day_of_month, Time.Feature.day_of_week, Time.Feature.hour]),\n",
    "    AddMinutes(-15, 'pickup_datetime', '15_min_before'),\n",
    "    RequestCount(15, 'pickup_cell_6', '15_min_before', 'requests_pickup_cell'),\n",
    "    RequestCount(15, 'dropoff_cell_6', '15_min_before', 'requests_dropoff_cell'),\n",
    "    #IF(IF.Predicate.has_column('duration_sec'), then=[\n",
    "    IF(in_train_phase, then=[\n",
    "        Duration(Duration.Unit.minute, 'duration_sec', 'duration_min'),\n",
    "        DropColumns(inputCols=['duration_sec'])\n",
    "    ]),\n",
    "    DropColumns(inputCols=['pickup_datetime', '15_min_before']),\n",
    "    SaveToParquet(f'../data/processed/{phase.name}/features')\n",
    "]).transform(ParquetDataFrame(f'../data/processed/{phase.name}/inputs', spark))\n",
    "\n",
    "print(f'Saved {features_df.count()} rows {phase.name} features')\n",
    "features_df.show(2)"
   ]
  },
  {
   "cell_type": "code",
   "execution_count": null,
   "metadata": {},
   "outputs": [],
   "source": []
  },
  {
   "cell_type": "code",
   "execution_count": null,
   "metadata": {},
   "outputs": [],
   "source": []
  }
 ],
 "metadata": {
  "kernelspec": {
   "display_name": "Python [conda env:pipeline-oriented-analytics]",
   "language": "python",
   "name": "conda-env-pipeline-oriented-analytics-py"
  },
  "language_info": {
   "codemirror_mode": {
    "name": "ipython",
    "version": 3
   },
   "file_extension": ".py",
   "mimetype": "text/x-python",
   "name": "python",
   "nbconvert_exporter": "python",
   "pygments_lexer": "ipython3",
   "version": "3.6.10"
  }
 },
 "nbformat": 4,
 "nbformat_minor": 2
}
